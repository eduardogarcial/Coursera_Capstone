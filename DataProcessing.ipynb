{
 "cells": [
  {
   "cell_type": "code",
   "execution_count": 34,
   "metadata": {},
   "outputs": [],
   "source": [
    "%%capture\n",
    "! pip install seaborn\n",
    "import matplotlib.pyplot as plt\n",
    "import seaborn as sns\n",
    "%matplotlib inline \n",
    "import pandas as pd\n",
    "import numpy as np\n",
    "path='data/dftRoadSafetyData_Accidents_2018.csv'\n",
    "df = pd.read_csv(path)\n",
    "df.shape"
   ]
  },
  {
   "cell_type": "code",
   "execution_count": 35,
   "metadata": {},
   "outputs": [
    {
     "data": {
      "text/plain": [
       "Accident_Index                                  object\n",
       "Location_Easting_OSGR                          float64\n",
       "Location_Northing_OSGR                         float64\n",
       "Longitude                                      float64\n",
       "Latitude                                       float64\n",
       "Police_Force                                     int64\n",
       "Accident_Severity                                int64\n",
       "Number_of_Vehicles                               int64\n",
       "Number_of_Casualties                             int64\n",
       "Date                                            object\n",
       "Day_of_Week                                      int64\n",
       "Time                                            object\n",
       "Local_Authority_(District)                       int64\n",
       "Local_Authority_(Highway)                       object\n",
       "1st_Road_Class                                   int64\n",
       "1st_Road_Number                                  int64\n",
       "Road_Type                                        int64\n",
       "Speed_limit                                      int64\n",
       "Junction_Detail                                  int64\n",
       "Junction_Control                                 int64\n",
       "2nd_Road_Class                                   int64\n",
       "2nd_Road_Number                                  int64\n",
       "Pedestrian_Crossing-Human_Control                int64\n",
       "Pedestrian_Crossing-Physical_Facilities          int64\n",
       "Light_Conditions                                 int64\n",
       "Weather_Conditions                               int64\n",
       "Road_Surface_Conditions                          int64\n",
       "Special_Conditions_at_Site                       int64\n",
       "Carriageway_Hazards                              int64\n",
       "Urban_or_Rural_Area                              int64\n",
       "Did_Police_Officer_Attend_Scene_of_Accident      int64\n",
       "LSOA_of_Accident_Location                       object\n",
       "dtype: object"
      ]
     },
     "execution_count": 35,
     "metadata": {},
     "output_type": "execute_result"
    }
   ],
   "source": [
    "df.dtypes"
   ]
  },
  {
   "cell_type": "code",
   "execution_count": 36,
   "metadata": {},
   "outputs": [],
   "source": [
    "df.drop(['Number_of_Casualties','Speed_limit', 'Special_Conditions_at_Site', 'Carriageway_Hazards', 'Number_of_Vehicles', 'Time', 'Junction_Detail', 'Junction_Control', 'Pedestrian_Crossing-Physical_Facilities', 'Pedestrian_Crossing-Human_Control', 'LSOA_of_Accident_Location', 'Date', 'Accident_Index', 'Local_Authority_(District)', 'Local_Authority_(Highway)', '2nd_Road_Class', '2nd_Road_Number', 'Police_Force', 'Location_Easting_OSGR', 'Location_Northing_OSGR', 'Longitude', 'Latitude', 'Did_Police_Officer_Attend_Scene_of_Accident', 'Accident_Index', '1st_Road_Number', '1st_Road_Class'], axis=1, inplace=True)\n",
    "RTD1=df[df['Road_Type']==-1].index\n",
    "df.drop(RTD1 , inplace=True)\n",
    "RTD2=df[df['Road_Type']==9].index\n",
    "df.drop(RTD2 , inplace=True)\n",
    "LCD=df[df['Light_Conditions']==-1].index\n",
    "df.drop(LCD , inplace=True)\n",
    "WCD1=df[df['Weather_Conditions']==9].index\n",
    "df.drop(WCD1 , inplace=True)\n",
    "WCD2=df[df['Weather_Conditions']==-1].index\n",
    "df.drop(WCD2 , inplace=True)\n",
    "RSCC=df[df['Road_Surface_Conditions']==-1].index\n",
    "df.drop(RSCC , inplace=True)\n",
    "URD1=df[df['Urban_or_Rural_Area']==3].index\n",
    "df.drop(URD1 , inplace=True)\n",
    "URD2=df[df['Urban_or_Rural_Area']==-1].index\n",
    "df.drop(URD2 , inplace=True)\n"
   ]
  },
  {
   "cell_type": "code",
   "execution_count": 51,
   "metadata": {},
   "outputs": [
    {
     "data": {
      "text/plain": [
       "1    78059\n",
       "2    38747\n",
       "Name: Urban_or_Rural_Area, dtype: int64"
      ]
     },
     "execution_count": 51,
     "metadata": {},
     "output_type": "execute_result"
    }
   ],
   "source": [
    "df.head()\n",
    "df['Urban_or_Rural_Area'].value_counts()"
   ]
  },
  {
   "cell_type": "code",
   "execution_count": 52,
   "metadata": {},
   "outputs": [
    {
     "data": {
      "text/html": [
       "<div>\n",
       "<style scoped>\n",
       "    .dataframe tbody tr th:only-of-type {\n",
       "        vertical-align: middle;\n",
       "    }\n",
       "\n",
       "    .dataframe tbody tr th {\n",
       "        vertical-align: top;\n",
       "    }\n",
       "\n",
       "    .dataframe thead tr th {\n",
       "        text-align: left;\n",
       "    }\n",
       "\n",
       "    .dataframe thead tr:last-of-type th {\n",
       "        text-align: right;\n",
       "    }\n",
       "</style>\n",
       "<table border=\"1\" class=\"dataframe\">\n",
       "  <thead>\n",
       "    <tr>\n",
       "      <th></th>\n",
       "      <th colspan=\"3\" halign=\"left\">Accident_Severity</th>\n",
       "    </tr>\n",
       "    <tr>\n",
       "      <th>Light_Conditions</th>\n",
       "      <th>Dark-lit</th>\n",
       "      <th>Dark-unlit</th>\n",
       "      <th>Daylight</th>\n",
       "    </tr>\n",
       "    <tr>\n",
       "      <th>Weather_Conditions</th>\n",
       "      <th></th>\n",
       "      <th></th>\n",
       "      <th></th>\n",
       "    </tr>\n",
       "  </thead>\n",
       "  <tbody>\n",
       "    <tr>\n",
       "      <th>Fog</th>\n",
       "      <td>2.786445</td>\n",
       "      <td>2.736052</td>\n",
       "      <td>2.840248</td>\n",
       "    </tr>\n",
       "    <tr>\n",
       "      <th>W_Fine</th>\n",
       "      <td>2.767065</td>\n",
       "      <td>2.668740</td>\n",
       "      <td>2.788240</td>\n",
       "    </tr>\n",
       "    <tr>\n",
       "      <th>W_Rain</th>\n",
       "      <td>2.775381</td>\n",
       "      <td>2.715286</td>\n",
       "      <td>2.815121</td>\n",
       "    </tr>\n",
       "    <tr>\n",
       "      <th>W_Snow</th>\n",
       "      <td>2.859327</td>\n",
       "      <td>2.756757</td>\n",
       "      <td>2.837389</td>\n",
       "    </tr>\n",
       "  </tbody>\n",
       "</table>\n",
       "</div>"
      ],
      "text/plain": [
       "                   Accident_Severity                     \n",
       "Light_Conditions            Dark-lit Dark-unlit  Daylight\n",
       "Weather_Conditions                                       \n",
       "Fog                         2.786445   2.736052  2.840248\n",
       "W_Fine                      2.767065   2.668740  2.788240\n",
       "W_Rain                      2.775381   2.715286  2.815121\n",
       "W_Snow                      2.859327   2.756757  2.837389"
      ]
     },
     "execution_count": 52,
     "metadata": {},
     "output_type": "execute_result"
    }
   ],
   "source": [
    "df.loc[(df.Weather_Conditions == 4),'Weather_Conditions']=1\n",
    "df.loc[(df.Weather_Conditions == 5),'Weather_Conditions']=2\n",
    "df.loc[(df.Weather_Conditions == 6),'Weather_Conditions']=3\n",
    "df.loc[(df.Weather_Conditions == 8),'Weather_Conditions']=7\n",
    "df.loc[(df.Weather_Conditions == 1),'Weather_Conditions']=\"W_Fine\"\n",
    "df.loc[(df.Weather_Conditions == 2),'Weather_Conditions']=\"W_Rain\"\n",
    "df.loc[(df.Weather_Conditions == 3),'Weather_Conditions']=\"W_Snow\"\n",
    "df.loc[(df.Weather_Conditions == 7),'Weather_Conditions']=\"Fog\"\n",
    "\n",
    "df.loc[(df.Light_Conditions == 6),'Light_Conditions']=5\n",
    "df.loc[(df.Light_Conditions == 7),'Light_Conditions']=5\n",
    "df.loc[(df.Light_Conditions == 1),'Light_Conditions']=\"Daylight\"\n",
    "df.loc[(df.Light_Conditions == 4),'Light_Conditions']=\"Dark-lit\"\n",
    "df.loc[(df.Light_Conditions == 5),'Light_Conditions']=\"Dark-unlit\"\n",
    "\n",
    "df.loc[(df.Road_Surface_Conditions == 1),'Road_Surface_Conditions']=\"R_Dry\"\n",
    "df.loc[(df.Road_Surface_Conditions == 2),'Road_Surface_Conditions']=\"R_Wet\"\n",
    "df.loc[(df.Road_Surface_Conditions == 3),'Road_Surface_Conditions']=\"R_Snow\"\n",
    "df.loc[(df.Road_Surface_Conditions == 4),'Road_Surface_Conditions']=\"R_Ice\"\n",
    "df.loc[(df.Road_Surface_Conditions == 5),'Road_Surface_Conditions']=\"R_Flood\"\n",
    "\n",
    "df.loc[(df.Day_of_Week == 1),'Day_of_Week']=\"Sunday\"\n",
    "df.loc[(df.Day_of_Week == 2),'Day_of_Week']=\"Monday\"\n",
    "df.loc[(df.Day_of_Week == 3),'Day_of_Week']=\"Tuesday\"\n",
    "df.loc[(df.Day_of_Week == 4),'Day_of_Week']=\"Wednesday\"\n",
    "df.loc[(df.Day_of_Week == 5),'Day_of_Week']=\"Thursday\"\n",
    "df.loc[(df.Day_of_Week == 6),'Day_of_Week']=\"Friday\"\n",
    "df.loc[(df.Day_of_Week == 7),'Day_of_Week']=\"Saturday\"\n",
    "\n",
    "df.loc[(df.Road_Type == 1),'Road_Type']=\"Roundabout\"\n",
    "df.loc[(df.Road_Type == 2),'Road_Type']=\"One-way\"\n",
    "df.loc[(df.Road_Type == 3),'Road_Type']=\"Single C\"\n",
    "df.loc[(df.Road_Type == 7),'Road_Type']=\"Double C\"\n",
    "df.loc[(df.Road_Type == 6),'Road_Type']=\"Slip_road\"\n",
    "\n",
    "df.loc[(df.Urban_or_Rural_Area == 1),'Urban_or_Rural_Area']=\"Urban\"\n",
    "df.loc[(df.Urban_or_Rural_Area == 2),'Urban_or_Rural_Area']=\"Rural\"\n",
    "\n",
    "#df['Light_Conditions'].value_counts()\n",
    "df_gptest1 = df[['Light_Conditions','Weather_Conditions','Accident_Severity']]\n",
    "grouped_test1 = df_gptest1.groupby(['Weather_Conditions','Light_Conditions'],as_index=False).mean()\n",
    "grouped_pivot1 = grouped_test1.pivot(index='Weather_Conditions',columns='Light_Conditions')\n",
    "grouped_pivot1"
   ]
  },
  {
   "cell_type": "code",
   "execution_count": 43,
   "metadata": {},
   "outputs": [
    {
     "data": {
      "image/png": "[encoded data removed]",
      "text/plain": [
       "<Figure size 432x288 with 2 Axes>"
      ]
     },
     "metadata": {
      "needs_background": "light"
     },
     "output_type": "display_data"
    }
   ],
   "source": [
    "plt.pcolor(grouped_pivot1, cmap='RdBu')\n",
    "plt.colorbar()\n",
    "plt.show()"
   ]
  },
  {
   "cell_type": "code",
   "execution_count": 44,
   "metadata": {},
   "outputs": [
    {
     "data": {
      "image/png": "[encoded data removed]",
      "text/plain": [
       "<Figure size 432x288 with 2 Axes>"
      ]
     },
     "metadata": {
      "needs_background": "light"
     },
     "output_type": "display_data"
    }
   ],
   "source": [
    "fig, ax = plt.subplots()\n",
    "im = ax.pcolor(grouped_pivot1, cmap='RdBu')\n",
    "\n",
    "#label names\n",
    "row_labels = grouped_pivot1.columns.levels[1]\n",
    "col_labels = grouped_pivot1.index\n",
    "\n",
    "#move ticks and labels to the center\n",
    "ax.set_xticks(np.arange(grouped_pivot1.shape[1]) + 0.5, minor=False)\n",
    "ax.set_yticks(np.arange(grouped_pivot1.shape[0]) + 0.5, minor=False)\n",
    "\n",
    "#insert labels\n",
    "ax.set_xticklabels(row_labels, minor=False)\n",
    "ax.set_yticklabels(col_labels, minor=False)\n",
    "\n",
    "#rotate label if too long\n",
    "plt.xticks(rotation=90)\n",
    "\n",
    "fig.colorbar(im)\n",
    "plt.show()"
   ]
  },
  {
   "cell_type": "code",
   "execution_count": 47,
   "metadata": {},
   "outputs": [
    {
     "data": {
      "text/html": [
       "<div>\n",
       "<style scoped>\n",
       "    .dataframe tbody tr th:only-of-type {\n",
       "        vertical-align: middle;\n",
       "    }\n",
       "\n",
       "    .dataframe tbody tr th {\n",
       "        vertical-align: top;\n",
       "    }\n",
       "\n",
       "    .dataframe thead tr th {\n",
       "        text-align: left;\n",
       "    }\n",
       "\n",
       "    .dataframe thead tr:last-of-type th {\n",
       "        text-align: right;\n",
       "    }\n",
       "</style>\n",
       "<table border=\"1\" class=\"dataframe\">\n",
       "  <thead>\n",
       "    <tr>\n",
       "      <th></th>\n",
       "      <th colspan=\"5\" halign=\"left\">Accident_Severity</th>\n",
       "    </tr>\n",
       "    <tr>\n",
       "      <th>Road_Surface_Conditions</th>\n",
       "      <th>R_Dry</th>\n",
       "      <th>R_Flood</th>\n",
       "      <th>R_Ice</th>\n",
       "      <th>R_Snow</th>\n",
       "      <th>R_Wet</th>\n",
       "    </tr>\n",
       "    <tr>\n",
       "      <th>Day_of_Week</th>\n",
       "      <th></th>\n",
       "      <th></th>\n",
       "      <th></th>\n",
       "      <th></th>\n",
       "      <th></th>\n",
       "    </tr>\n",
       "  </thead>\n",
       "  <tbody>\n",
       "    <tr>\n",
       "      <th>Friday</th>\n",
       "      <td>2.787792</td>\n",
       "      <td>2.571429</td>\n",
       "      <td>2.831832</td>\n",
       "      <td>2.886525</td>\n",
       "      <td>2.779499</td>\n",
       "    </tr>\n",
       "    <tr>\n",
       "      <th>Monday</th>\n",
       "      <td>2.790228</td>\n",
       "      <td>2.888889</td>\n",
       "      <td>2.815166</td>\n",
       "      <td>2.861538</td>\n",
       "      <td>2.766923</td>\n",
       "    </tr>\n",
       "    <tr>\n",
       "      <th>Saturday</th>\n",
       "      <td>2.755012</td>\n",
       "      <td>2.818182</td>\n",
       "      <td>2.798507</td>\n",
       "      <td>2.818898</td>\n",
       "      <td>2.765411</td>\n",
       "    </tr>\n",
       "    <tr>\n",
       "      <th>Sunday</th>\n",
       "      <td>2.743983</td>\n",
       "      <td>2.750000</td>\n",
       "      <td>2.847953</td>\n",
       "      <td>2.869822</td>\n",
       "      <td>2.750304</td>\n",
       "    </tr>\n",
       "    <tr>\n",
       "      <th>Thursday</th>\n",
       "      <td>2.790027</td>\n",
       "      <td>2.857143</td>\n",
       "      <td>2.849711</td>\n",
       "      <td>2.820809</td>\n",
       "      <td>2.785063</td>\n",
       "    </tr>\n",
       "    <tr>\n",
       "      <th>Tuesday</th>\n",
       "      <td>2.791565</td>\n",
       "      <td>2.772727</td>\n",
       "      <td>2.789773</td>\n",
       "      <td>2.812207</td>\n",
       "      <td>2.771204</td>\n",
       "    </tr>\n",
       "    <tr>\n",
       "      <th>Wednesday</th>\n",
       "      <td>2.788646</td>\n",
       "      <td>2.850000</td>\n",
       "      <td>2.831522</td>\n",
       "      <td>2.844920</td>\n",
       "      <td>2.789302</td>\n",
       "    </tr>\n",
       "  </tbody>\n",
       "</table>\n",
       "</div>"
      ],
      "text/plain": [
       "                        Accident_Severity                                \\\n",
       "Road_Surface_Conditions             R_Dry   R_Flood     R_Ice    R_Snow   \n",
       "Day_of_Week                                                               \n",
       "Friday                           2.787792  2.571429  2.831832  2.886525   \n",
       "Monday                           2.790228  2.888889  2.815166  2.861538   \n",
       "Saturday                         2.755012  2.818182  2.798507  2.818898   \n",
       "Sunday                           2.743983  2.750000  2.847953  2.869822   \n",
       "Thursday                         2.790027  2.857143  2.849711  2.820809   \n",
       "Tuesday                          2.791565  2.772727  2.789773  2.812207   \n",
       "Wednesday                        2.788646  2.850000  2.831522  2.844920   \n",
       "\n",
       "                                   \n",
       "Road_Surface_Conditions     R_Wet  \n",
       "Day_of_Week                        \n",
       "Friday                   2.779499  \n",
       "Monday                   2.766923  \n",
       "Saturday                 2.765411  \n",
       "Sunday                   2.750304  \n",
       "Thursday                 2.785063  \n",
       "Tuesday                  2.771204  \n",
       "Wednesday                2.789302  "
      ]
     },
     "execution_count": 47,
     "metadata": {},
     "output_type": "execute_result"
    }
   ],
   "source": [
    "df_gptest2 = df[['Day_of_Week','Road_Surface_Conditions','Accident_Severity']]\n",
    "grouped_test2 = df_gptest2.groupby(['Day_of_Week','Road_Surface_Conditions'],as_index=False).mean()\n",
    "grouped_pivot2 = grouped_test2.pivot(index='Day_of_Week',columns='Road_Surface_Conditions')\n",
    "grouped_pivot2"
   ]
  },
  {
   "cell_type": "code",
   "execution_count": 48,
   "metadata": {},
   "outputs": [
    {
     "data": {
      "image/png": "[encoded data removed]",
      "text/plain": [
       "<Figure size 432x288 with 2 Axes>"
      ]
     },
     "metadata": {
      "needs_background": "light"
     },
     "output_type": "display_data"
    }
   ],
   "source": [
    "plt.pcolor(grouped_pivot2, cmap='RdBu')\n",
    "plt.colorbar()\n",
    "plt.show()"
   ]
  },
  {
   "cell_type": "code",
   "execution_count": 49,
   "metadata": {},
   "outputs": [
    {
     "data": {
      "image/png": "[encoded data removed]",
      "text/plain": [
       "<Figure size 432x288 with 2 Axes>"
      ]
     },
     "metadata": {
      "needs_background": "light"
     },
     "output_type": "display_data"
    }
   ],
   "source": [
    "fig, ax = plt.subplots()\n",
    "im = ax.pcolor(grouped_pivot2, cmap='RdBu')\n",
    "\n",
    "#label names\n",
    "row_labels = grouped_pivot2.columns.levels[1]\n",
    "col_labels = grouped_pivot2.index\n",
    "\n",
    "#move ticks and labels to the center\n",
    "ax.set_xticks(np.arange(grouped_pivot2.shape[1]) + 0.5, minor=False)\n",
    "ax.set_yticks(np.arange(grouped_pivot2.shape[0]) + 0.5, minor=False)\n",
    "\n",
    "#insert labels\n",
    "ax.set_xticklabels(row_labels, minor=False)\n",
    "ax.set_yticklabels(col_labels, minor=False)\n",
    "\n",
    "#rotate label if too long\n",
    "plt.xticks(rotation=90)\n",
    "\n",
    "fig.colorbar(im)\n",
    "plt.show()"
   ]
  },
  {
   "cell_type": "code",
   "execution_count": 54,
   "metadata": {},
   "outputs": [
    {
     "data": {
      "image/png": "[encoded data removed]",
      "text/plain": [
       "<Figure size 432x288 with 2 Axes>"
      ]
     },
     "metadata": {
      "needs_background": "light"
     },
     "output_type": "display_data"
    }
   ],
   "source": [
    "df_gptest3 = df[['Urban_or_Rural_Area','Road_Type','Accident_Severity']]\n",
    "grouped_test3 = df_gptest3.groupby(['Urban_or_Rural_Area','Road_Type'],as_index=False).mean()\n",
    "grouped_pivot3 = grouped_test3.pivot(index='Urban_or_Rural_Area',columns='Road_Type')\n",
    "plt.pcolor(grouped_pivot3, cmap='RdBu')\n",
    "plt.colorbar()\n",
    "plt.show()"
   ]
  },
  {
   "cell_type": "code",
   "execution_count": 56,
   "metadata": {},
   "outputs": [
    {
     "data": {
      "image/png": "[encoded data removed]",
      "text/plain": [
       "<Figure size 432x288 with 2 Axes>"
      ]
     },
     "metadata": {
      "needs_background": "light"
     },
     "output_type": "display_data"
    }
   ],
   "source": [
    "fig, ax = plt.subplots()\n",
    "im = ax.pcolor(grouped_pivot3, cmap='RdBu')\n",
    "\n",
    "#label names\n",
    "row_labels = grouped_pivot3.columns.levels[1]\n",
    "col_labels = grouped_pivot3.index\n",
    "\n",
    "#move ticks and labels to the center\n",
    "ax.set_xticks(np.arange(grouped_pivot3.shape[1]) + 0.5, minor=False)\n",
    "ax.set_yticks(np.arange(grouped_pivot3.shape[0]) + 0.5, minor=False)\n",
    "\n",
    "#insert labels\n",
    "ax.set_xticklabels(row_labels, minor=False)\n",
    "ax.set_yticklabels(col_labels, minor=False)\n",
    "\n",
    "#rotate label if too long\n",
    "plt.xticks(rotation=90)\n",
    "\n",
    "fig.colorbar(im)\n",
    "plt.show()"
   ]
  },
  {
   "cell_type": "code",
   "execution_count": 58,
   "metadata": {},
   "outputs": [
    {
     "data": {
      "text/plain": [
       "<AxesSubplot:xlabel='Weather_Conditions', ylabel='Accident_Severity'>"
      ]
     },
     "execution_count": 58,
     "metadata": {},
     "output_type": "execute_result"
    },
    {
     "data": {
      "image/png": "[encoded data removed]",
      "text/plain": [
       "<Figure size 432x288 with 1 Axes>"
      ]
     },
     "metadata": {
      "needs_background": "light"
     },
     "output_type": "display_data"
    }
   ],
   "source": [
    "sns.boxplot(x=\"Weather_Conditions\", y=\"Accident_Severity\", data=df)"
   ]
  },
  {
   "cell_type": "code",
   "execution_count": null,
   "metadata": {},
   "outputs": [],
   "source": []
  }
 ],
 "metadata": {
  "kernelspec": {
   "display_name": "Python",
   "language": "python",
   "name": "conda-env-python-py"
  },
  "language_info": {
   "codemirror_mode": {
    "name": "ipython",
    "version": 3
   },
   "file_extension": ".py",
   "mimetype": "text/x-python",
   "name": "python",
   "nbconvert_exporter": "python",
   "pygments_lexer": "ipython3",
   "version": "3.6.11"
  }
 },
 "nbformat": 4,
 "nbformat_minor": 4
}
